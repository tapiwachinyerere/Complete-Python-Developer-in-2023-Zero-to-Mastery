{
 "cells": [
  {
   "cell_type": "code",
   "execution_count": 65,
   "metadata": {},
   "outputs": [
    {
     "data": {
      "text/plain": [
       "5"
      ]
     },
     "execution_count": 65,
     "metadata": {},
     "output_type": "execute_result"
    }
   ],
   "source": [
    "class PlayerCharacter():\n",
    "    membership = True #Class Object Attributes exists for all objects. It does not change accross different instances\n",
    "    def __init__(self, name, age):\n",
    "        if age > 18: #we can check if the user is above 18 years old to play the game for example. This is to ensure we are instantiating the proper way.\n",
    "            self._name = name #class attributes are dynamic and specific to each class object.\n",
    "            self._age = age #the underscore in front if the variable is an indication that the variable is private and should not be changed.\n",
    "        else:\n",
    "            print('Player is not old enough to play.')\n",
    "    \n",
    "    def run(self): #methods\n",
    "        print('run')\n",
    "        return 'done'\n",
    "    \n",
    "    def greet(self): #all methods recieve the first parameter 'self' so we can use them\n",
    "        print(f'Hello {self._name}. Welcome to the universe!')\n",
    "\n",
    "    @classmethod #A method on the actual class and not on the object.\n",
    "    def add_nums(cls, num1, num2):\n",
    "        return num1 + num2\n",
    "\n",
    "player1 = PlayerCharacter('Tapiwa', 19) #instantiating a class\n",
    "player2 = PlayerCharacter('Leona', 26)\n",
    "\n",
    "PlayerCharacter.add_nums(2,3) #calling a class method"
   ]
  },
  {
   "cell_type": "code",
   "execution_count": 67,
   "metadata": {},
   "outputs": [
    {
     "data": {
      "text/plain": [
       "'Tapiwa'"
      ]
     },
     "execution_count": 67,
     "metadata": {},
     "output_type": "execute_result"
    }
   ],
   "source": [
    "player1._name"
   ]
  },
  {
   "cell_type": "markdown",
   "metadata": {},
   "source": [
    "OOP Exercise"
   ]
  },
  {
   "cell_type": "code",
   "execution_count": 52,
   "metadata": {},
   "outputs": [
    {
     "name": "stdout",
     "output_type": "stream",
     "text": [
      "The oldest cat is 12 years old.\n"
     ]
    }
   ],
   "source": [
    "#Given the below class:\n",
    "class Cat:\n",
    "    species = 'mammal'\n",
    "    def __init__(self, name, age):\n",
    "        self.name = name\n",
    "        self.age = age\n",
    "\n",
    "\n",
    "# 1 Instantiate the Cat object with 3 cats\n",
    "cat1 = Cat('Tom', 3)\n",
    "cat2 = Cat('Yabo', 5)\n",
    "cat3 = Cat('Roger', 12)\n",
    "\n",
    "\n",
    "# 2 Create a function that finds the oldest cat\n",
    "def oldest_cat(cats):\n",
    "    ages = []\n",
    "    for cat in cats:\n",
    "        ages.append(cat.age)\n",
    "    oldest = max(ages)\n",
    "# 3 Print out: \"The oldest cat is x years old.\". x will be the oldest cat age by using the function in #2\n",
    "    print(f'The oldest cat is {oldest} years old.')\n",
    "\n",
    "oldest_cat([cat1, cat2, cat3])"
   ]
  },
  {
   "cell_type": "code",
   "execution_count": 104,
   "metadata": {},
   "outputs": [
    {
     "name": "stdout",
     "output_type": "stream",
     "text": [
      "Attacking with power of 50\n",
      "Attacking with arrows. Arrows left: 100\n"
     ]
    }
   ],
   "source": [
    "#Inheritence in OOP\n",
    "\n",
    "class User(): #PARENT CLASS\n",
    "    def __init__(self, email) -> None:\n",
    "        self.email = email\n",
    "\n",
    "    def sign_in(self): #we dont have the __init__ method because we don't have any variables or attributes we want to assign to the user.\n",
    "        print('logged in')\n",
    "\n",
    "#define sub_classes\n",
    "class Wizard(User): #CHILD CLASS #for inheritence, pass the parent class in the brackets that you want to inherit from.\n",
    "    def __init__(self, name, power, email):\n",
    "        super().__init__(email) #refers to the super class (User in this case). It allows us to refer to User and not worry about us passing self.\n",
    "        self.name = name\n",
    "        self.power = power\n",
    "\n",
    "    def attack(self):\n",
    "        print(f'Attacking with power of {self.power}')\n",
    "\n",
    "class Archer(User): #CHILD CLASS\n",
    "    def __init__(self, name, arrows, email):\n",
    "        super().__init__(email)\n",
    "        self.name = name\n",
    "        self.arrows = arrows\n",
    "\n",
    "    def attack(self):\n",
    "        print(f'Attacking with arrows. Arrows left: {self.arrows}')\n",
    "\n",
    "wizard1 = Wizard('Merlin', 50, 'merlin@gmail.com')\n",
    "archer1 = Archer('Robin', 100, 'robin@gmail.com')\n",
    "\n",
    "#Polymorphism - the same method acts differently based on which object calls them.\n",
    "for char in [wizard1, archer1]:\n",
    "    char.attack()\n"
   ]
  },
  {
   "cell_type": "markdown",
   "metadata": {},
   "source": [
    "Inheritence Excercise"
   ]
  },
  {
   "cell_type": "code",
   "execution_count": 85,
   "metadata": {},
   "outputs": [
    {
     "name": "stdout",
     "output_type": "stream",
     "text": [
      "Simon is just walking around\n",
      "Sally is just walking around\n",
      "Yabbo is just walking around\n"
     ]
    }
   ],
   "source": [
    "class Pets():\n",
    "    animals = []\n",
    "    def __init__(self, animals):\n",
    "        self.animals = animals\n",
    "\n",
    "    def walk(self):\n",
    "        for animal in self.animals:\n",
    "            print(animal.walk())\n",
    "\n",
    "class Cat():\n",
    "    is_lazy = True\n",
    "\n",
    "    def __init__(self, name, age):\n",
    "        self.name = name\n",
    "        self.age = age\n",
    "\n",
    "    def walk(self):\n",
    "        return f'{self.name} is just walking around'\n",
    "    \n",
    "class Bird():\n",
    "    is_lazy = True\n",
    "\n",
    "    def __init__(self, name, age):\n",
    "        self.name = name\n",
    "        self.age = age\n",
    "\n",
    "    def walk(self):\n",
    "        return f'{self.name} is just flying around'\n",
    "\n",
    "class Simon(Cat):\n",
    "    def sing(self, sounds):\n",
    "        return f'{sounds}'\n",
    "\n",
    "class Sally(Cat):\n",
    "    def sing(self, sounds):\n",
    "        return f'{sounds}'\n",
    "\n",
    "#1 Add nother Cat\n",
    "class Yabbo(Cat):\n",
    "    def sing(self, sounds):\n",
    "        return f'{sounds}'\n",
    "\n",
    "#2 Create a list of all of the pets (create 3 cat instances from the above)\n",
    "my_cats = [Simon('Simon', 3), Sally('Sally', 5), Yabbo('Yabbo', 7)]\n",
    "\n",
    "#3 Instantiate the Pet class with all your cats use variable my_pets\n",
    "my_pets = Pets(my_cats)\n",
    "\n",
    "#4 Output all of the cats walking using the my_pets instance\n",
    "my_pets.walk()"
   ]
  },
  {
   "cell_type": "code",
   "execution_count": 86,
   "metadata": {},
   "outputs": [
    {
     "name": "stdout",
     "output_type": "stream",
     "text": [
      "Parry is just flying around\n",
      "Eagy is just flying around\n"
     ]
    }
   ],
   "source": [
    "#Extending it to birds\n",
    "class Parry(Bird):\n",
    "    def sing(self, sounds):\n",
    "        return f'{sounds}'\n",
    "\n",
    "class Eagy(Bird):\n",
    "    def sing(self, sounds):\n",
    "        return f'{sounds}'\n",
    "\n",
    "my_birds = [Parry('Parry', 3), Eagy('Eagy', 5)]\n",
    "\n",
    "birds = Pets(my_birds)\n",
    "\n",
    "birds.walk()"
   ]
  },
  {
   "cell_type": "markdown",
   "metadata": {},
   "source": [
    "Dunder Methods"
   ]
  },
  {
   "cell_type": "code",
   "execution_count": 91,
   "metadata": {},
   "outputs": [],
   "source": [
    "class Toy():\n",
    "    def __init__(self, color, age) -> None:\n",
    "        self.color = color\n",
    "        self.age = age\n",
    "\n",
    "    def __str__(self) -> str: #Altered the string \n",
    "        return f'{self.color}'\n",
    "\n",
    "action_figure = Toy('red', 0)\n",
    "\n",
    "str(action_figure)"
   ]
  },
  {
   "cell_type": "code",
   "execution_count": 93,
   "metadata": {},
   "outputs": [],
   "source": [
    "class SuperList(list):\n",
    "    def __len__(self):\n",
    "        return 1000"
   ]
  },
  {
   "cell_type": "code",
   "execution_count": 94,
   "metadata": {},
   "outputs": [],
   "source": [
    "super_list1 = SuperList()\n",
    "super_list1.append(5)\n",
    "super_list1"
   ]
  },
  {
   "cell_type": "code",
   "execution_count": 97,
   "metadata": {},
   "outputs": [
    {
     "data": {
      "text/plain": [
       "1000"
      ]
     },
     "execution_count": 97,
     "metadata": {},
     "output_type": "execute_result"
    }
   ],
   "source": [
    "len(super_list1) #Changed the dunder __len__ so that it always outputs 1000"
   ]
  }
 ],
 "metadata": {
  "kernelspec": {
   "display_name": "Python 3",
   "language": "python",
   "name": "python3"
  },
  "language_info": {
   "codemirror_mode": {
    "name": "ipython",
    "version": 3
   },
   "file_extension": ".py",
   "mimetype": "text/x-python",
   "name": "python",
   "nbconvert_exporter": "python",
   "pygments_lexer": "ipython3",
   "version": "3.12.0"
  }
 },
 "nbformat": 4,
 "nbformat_minor": 2
}
