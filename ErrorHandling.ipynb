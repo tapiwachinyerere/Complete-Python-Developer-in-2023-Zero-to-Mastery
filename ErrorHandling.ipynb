{
 "cells": [
  {
   "cell_type": "markdown",
   "metadata": {},
   "source": [
    "Common Errors in Python"
   ]
  },
  {
   "cell_type": "code",
   "execution_count": 1,
   "metadata": {},
   "outputs": [
    {
     "ename": "TypeError",
     "evalue": "unsupported operand type(s) for +: 'int' and 'str'",
     "output_type": "error",
     "traceback": [
      "\u001b[1;31m---------------------------------------------------------------------------\u001b[0m",
      "\u001b[1;31mTypeError\u001b[0m                                 Traceback (most recent call last)",
      "\u001b[1;32mc:\\Users\\chiny\\Repos\\Complete-Python-Developer-in-2023-Zero-to-Mastery\\ErrorHandling.ipynb Cell 2\u001b[0m line \u001b[0;36m3\n\u001b[0;32m      <a href='vscode-notebook-cell:/c%3A/Users/chiny/Repos/Complete-Python-Developer-in-2023-Zero-to-Mastery/ErrorHandling.ipynb#W0sZmlsZQ%3D%3D?line=0'>1</a>\u001b[0m \u001b[39m#Type Error\u001b[39;00m\n\u001b[1;32m----> <a href='vscode-notebook-cell:/c%3A/Users/chiny/Repos/Complete-Python-Developer-in-2023-Zero-to-Mastery/ErrorHandling.ipynb#W0sZmlsZQ%3D%3D?line=2'>3</a>\u001b[0m \u001b[39m1\u001b[39;49m \u001b[39m+\u001b[39;49m \u001b[39m'\u001b[39;49m\u001b[39mhello\u001b[39;49m\u001b[39m'\u001b[39;49m\n",
      "\u001b[1;31mTypeError\u001b[0m: unsupported operand type(s) for +: 'int' and 'str'"
     ]
    }
   ],
   "source": [
    "#Type Error\n",
    "\n",
    "1 + 'hello'"
   ]
  },
  {
   "cell_type": "code",
   "execution_count": null,
   "metadata": {},
   "outputs": [
    {
     "ename": "SyntaxError",
     "evalue": "expected ':' (1143128674.py, line 3)",
     "output_type": "error",
     "traceback": [
      "\u001b[1;36m  Cell \u001b[1;32mIn[2], line 3\u001b[1;36m\u001b[0m\n\u001b[1;33m    def hello()\u001b[0m\n\u001b[1;37m               ^\u001b[0m\n\u001b[1;31mSyntaxError\u001b[0m\u001b[1;31m:\u001b[0m expected ':'\n"
     ]
    }
   ],
   "source": [
    "# Syntax Error\n",
    "\n",
    "def hello()\n",
    "    print('Hi')"
   ]
  },
  {
   "cell_type": "code",
   "execution_count": null,
   "metadata": {},
   "outputs": [
    {
     "ename": "NameError",
     "evalue": "name 'age' is not defined",
     "output_type": "error",
     "traceback": [
      "\u001b[1;31m---------------------------------------------------------------------------\u001b[0m",
      "\u001b[1;31mNameError\u001b[0m                                 Traceback (most recent call last)",
      "\u001b[1;32mc:\\Users\\chiny\\Repos\\Complete-Python-Developer-in-2023-Zero-to-Mastery\\ErrorHandling.ipynb Cell 4\u001b[0m line \u001b[0;36m3\n\u001b[0;32m      <a href='vscode-notebook-cell:/c%3A/Users/chiny/Repos/Complete-Python-Developer-in-2023-Zero-to-Mastery/ErrorHandling.ipynb#W3sZmlsZQ%3D%3D?line=0'>1</a>\u001b[0m \u001b[39m# Name Error\u001b[39;00m\n\u001b[1;32m----> <a href='vscode-notebook-cell:/c%3A/Users/chiny/Repos/Complete-Python-Developer-in-2023-Zero-to-Mastery/ErrorHandling.ipynb#W3sZmlsZQ%3D%3D?line=2'>3</a>\u001b[0m \u001b[39m1\u001b[39m \u001b[39m+\u001b[39m age \n",
      "\u001b[1;31mNameError\u001b[0m: name 'age' is not defined"
     ]
    }
   ],
   "source": [
    "# Name Error\n",
    "\n",
    "1 + age "
   ]
  },
  {
   "cell_type": "code",
   "execution_count": null,
   "metadata": {},
   "outputs": [
    {
     "ename": "IndexError",
     "evalue": "list index out of range",
     "output_type": "error",
     "traceback": [
      "\u001b[1;31m---------------------------------------------------------------------------\u001b[0m",
      "\u001b[1;31mIndexError\u001b[0m                                Traceback (most recent call last)",
      "\u001b[1;32mc:\\Users\\chiny\\Repos\\Complete-Python-Developer-in-2023-Zero-to-Mastery\\ErrorHandling.ipynb Cell 5\u001b[0m line \u001b[0;36m4\n\u001b[0;32m      <a href='vscode-notebook-cell:/c%3A/Users/chiny/Repos/Complete-Python-Developer-in-2023-Zero-to-Mastery/ErrorHandling.ipynb#W4sZmlsZQ%3D%3D?line=0'>1</a>\u001b[0m \u001b[39m# Index Error\u001b[39;00m\n\u001b[0;32m      <a href='vscode-notebook-cell:/c%3A/Users/chiny/Repos/Complete-Python-Developer-in-2023-Zero-to-Mastery/ErrorHandling.ipynb#W4sZmlsZQ%3D%3D?line=2'>3</a>\u001b[0m my_list \u001b[39m=\u001b[39m [\u001b[39m1\u001b[39m,\u001b[39m2\u001b[39m,\u001b[39m3\u001b[39m]\n\u001b[1;32m----> <a href='vscode-notebook-cell:/c%3A/Users/chiny/Repos/Complete-Python-Developer-in-2023-Zero-to-Mastery/ErrorHandling.ipynb#W4sZmlsZQ%3D%3D?line=3'>4</a>\u001b[0m my_list[\u001b[39m6\u001b[39;49m]\n",
      "\u001b[1;31mIndexError\u001b[0m: list index out of range"
     ]
    }
   ],
   "source": [
    "# Index Error\n",
    "\n",
    "my_list = [1,2,3]\n",
    "my_list[6]"
   ]
  },
  {
   "cell_type": "code",
   "execution_count": null,
   "metadata": {},
   "outputs": [
    {
     "ename": "KeyError",
     "evalue": "'b'",
     "output_type": "error",
     "traceback": [
      "\u001b[1;31m---------------------------------------------------------------------------\u001b[0m",
      "\u001b[1;31mKeyError\u001b[0m                                  Traceback (most recent call last)",
      "\u001b[1;32mc:\\Users\\chiny\\Repos\\Complete-Python-Developer-in-2023-Zero-to-Mastery\\ErrorHandling.ipynb Cell 6\u001b[0m line \u001b[0;36m7\n\u001b[0;32m      <a href='vscode-notebook-cell:/c%3A/Users/chiny/Repos/Complete-Python-Developer-in-2023-Zero-to-Mastery/ErrorHandling.ipynb#W5sZmlsZQ%3D%3D?line=0'>1</a>\u001b[0m \u001b[39m# Key Error\u001b[39;00m\n\u001b[0;32m      <a href='vscode-notebook-cell:/c%3A/Users/chiny/Repos/Complete-Python-Developer-in-2023-Zero-to-Mastery/ErrorHandling.ipynb#W5sZmlsZQ%3D%3D?line=2'>3</a>\u001b[0m my_dict \u001b[39m=\u001b[39m {\n\u001b[0;32m      <a href='vscode-notebook-cell:/c%3A/Users/chiny/Repos/Complete-Python-Developer-in-2023-Zero-to-Mastery/ErrorHandling.ipynb#W5sZmlsZQ%3D%3D?line=3'>4</a>\u001b[0m     \u001b[39m'\u001b[39m\u001b[39ma\u001b[39m\u001b[39m'\u001b[39m: \u001b[39m1\u001b[39m\n\u001b[0;32m      <a href='vscode-notebook-cell:/c%3A/Users/chiny/Repos/Complete-Python-Developer-in-2023-Zero-to-Mastery/ErrorHandling.ipynb#W5sZmlsZQ%3D%3D?line=4'>5</a>\u001b[0m }\n\u001b[1;32m----> <a href='vscode-notebook-cell:/c%3A/Users/chiny/Repos/Complete-Python-Developer-in-2023-Zero-to-Mastery/ErrorHandling.ipynb#W5sZmlsZQ%3D%3D?line=6'>7</a>\u001b[0m my_dict[\u001b[39m'\u001b[39;49m\u001b[39mb\u001b[39;49m\u001b[39m'\u001b[39;49m]\n",
      "\u001b[1;31mKeyError\u001b[0m: 'b'"
     ]
    }
   ],
   "source": [
    "# Key Error\n",
    "\n",
    "my_dict = {\n",
    "    'a': 1\n",
    "}\n",
    "\n",
    "my_dict['b']"
   ]
  },
  {
   "cell_type": "code",
   "execution_count": null,
   "metadata": {},
   "outputs": [
    {
     "ename": "ZeroDivisionError",
     "evalue": "division by zero",
     "output_type": "error",
     "traceback": [
      "\u001b[1;31m---------------------------------------------------------------------------\u001b[0m",
      "\u001b[1;31mZeroDivisionError\u001b[0m                         Traceback (most recent call last)",
      "\u001b[1;32mc:\\Users\\chiny\\Repos\\Complete-Python-Developer-in-2023-Zero-to-Mastery\\ErrorHandling.ipynb Cell 7\u001b[0m line \u001b[0;36m3\n\u001b[0;32m      <a href='vscode-notebook-cell:/c%3A/Users/chiny/Repos/Complete-Python-Developer-in-2023-Zero-to-Mastery/ErrorHandling.ipynb#W6sZmlsZQ%3D%3D?line=0'>1</a>\u001b[0m \u001b[39m# Zero Division Error\u001b[39;00m\n\u001b[1;32m----> <a href='vscode-notebook-cell:/c%3A/Users/chiny/Repos/Complete-Python-Developer-in-2023-Zero-to-Mastery/ErrorHandling.ipynb#W6sZmlsZQ%3D%3D?line=2'>3</a>\u001b[0m \u001b[39m5\u001b[39;49m \u001b[39m/\u001b[39;49m \u001b[39m0\u001b[39;49m\n",
      "\u001b[1;31mZeroDivisionError\u001b[0m: division by zero"
     ]
    }
   ],
   "source": [
    "# Zero Division Error\n",
    "\n",
    "5 / 0"
   ]
  },
  {
   "cell_type": "markdown",
   "metadata": {},
   "source": [
    "Error Handling"
   ]
  },
  {
   "cell_type": "code",
   "execution_count": 4,
   "metadata": {},
   "outputs": [
    {
     "name": "stdout",
     "output_type": "stream",
     "text": [
      "Please enter a number!\n",
      "Please enter age higher than zero!\n",
      "Thank you!\n"
     ]
    }
   ],
   "source": [
    "while True:\n",
    "    try:\n",
    "        age = int(input('What is your age?'))\n",
    "        10/age\n",
    "    except ValueError:\n",
    "        print('Please enter a number!')\n",
    "    except ZeroDivisionError:\n",
    "        print('Please enter age higher than zero!')\n",
    "    else:\n",
    "        print('Thank you!')\n",
    "        break"
   ]
  },
  {
   "cell_type": "code",
   "execution_count": 15,
   "metadata": {},
   "outputs": [
    {
     "name": "stdout",
     "output_type": "stream",
     "text": [
      "Please enter numbers can only concatenate str (not \"int\") to str\n"
     ]
    }
   ],
   "source": [
    "def sum(num1, num2):\n",
    "    try:\n",
    "        return num1 + num2\n",
    "    except TypeError as err:\n",
    "        print(f'Please enter numbers {err}')\n",
    "\n",
    "sum('1', 2)"
   ]
  },
  {
   "cell_type": "code",
   "execution_count": 20,
   "metadata": {},
   "outputs": [
    {
     "name": "stdout",
     "output_type": "stream",
     "text": [
      "division by zero\n"
     ]
    }
   ],
   "source": [
    "def div(num1, num2):\n",
    "    try:\n",
    "        return num1 / num2\n",
    "    except (TypeError, ZeroDivisionError) as err:\n",
    "        print(err)\n",
    "\n",
    "div(1, 0)"
   ]
  },
  {
   "cell_type": "code",
   "execution_count": 21,
   "metadata": {},
   "outputs": [
    {
     "name": "stdout",
     "output_type": "stream",
     "text": [
      "Thank you!\n",
      "Okay, I am done.\n"
     ]
    }
   ],
   "source": [
    "#Using Finally\n",
    "while True:\n",
    "    try:\n",
    "        age = int(input('What is your age?'))\n",
    "        10/age\n",
    "    except ValueError:\n",
    "        print('Please enter a number!')\n",
    "    except ZeroDivisionError:\n",
    "        print('Please enter age higher than zero!')\n",
    "    else:\n",
    "        print('Thank you!')\n",
    "        break\n",
    "    finally:\n",
    "        print('Okay, I am done.')"
   ]
  }
 ],
 "metadata": {
  "kernelspec": {
   "display_name": "Python 3",
   "language": "python",
   "name": "python3"
  },
  "language_info": {
   "codemirror_mode": {
    "name": "ipython",
    "version": 3
   },
   "file_extension": ".py",
   "mimetype": "text/x-python",
   "name": "python",
   "nbconvert_exporter": "python",
   "pygments_lexer": "ipython3",
   "version": "3.12.0"
  }
 },
 "nbformat": 4,
 "nbformat_minor": 2
}
