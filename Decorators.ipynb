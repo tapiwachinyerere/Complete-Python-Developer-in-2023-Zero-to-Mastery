{
 "cells": [
  {
   "cell_type": "code",
   "execution_count": 3,
   "metadata": {},
   "outputs": [
    {
     "name": "stdout",
     "output_type": "stream",
     "text": [
      "*****\n",
      "hello\n",
      "*****\n"
     ]
    }
   ],
   "source": [
    "# Decorator\n",
    "\n",
    "def my_decorator(func):\n",
    "    def wrap_func():\n",
    "        print('*****')\n",
    "        func()\n",
    "        print('*****')\n",
    "    return wrap_func\n",
    "\n",
    "@my_decorator\n",
    "def hello():\n",
    "    print('hello')\n",
    "\n",
    "hello()\n"
   ]
  },
  {
   "cell_type": "code",
   "execution_count": 16,
   "metadata": {},
   "outputs": [
    {
     "name": "stdout",
     "output_type": "stream",
     "text": [
      "*****\n",
      "hi :D\n",
      "*****\n"
     ]
    }
   ],
   "source": [
    "# Decorator Pattern\n",
    "\n",
    "def my_decorator(func):\n",
    "    def wrap_func(*args, **kwargs):\n",
    "        print('*****')\n",
    "        func(*args, **kwargs)\n",
    "        print('*****')\n",
    "    return wrap_func\n",
    "\n",
    "@my_decorator\n",
    "def hello(greeting, emoji = ':D'):\n",
    "    print(greeting, emoji)\n",
    "\n",
    "hello('hi')"
   ]
  },
  {
   "cell_type": "code",
   "execution_count": 47,
   "metadata": {},
   "outputs": [
    {
     "name": "stdout",
     "output_type": "stream",
     "text": [
      "The function took 3.96 ms long to run.\n"
     ]
    }
   ],
   "source": [
    "#building a decorator\n",
    "\n",
    "from time import time\n",
    "\n",
    "def performance(func):\n",
    "    def wrapper(*args, **kwargs):\n",
    "        start_time = time()\n",
    "        result = func(*args, **kwargs)\n",
    "        end_time = time()\n",
    "        print(f'The function took {round((end_time - start_time),2)} ms long to run.')\n",
    "        return result\n",
    "    return wrapper\n",
    "\n",
    "@performance\n",
    "def long_time():\n",
    "    for i in range(100000000):\n",
    "        i*5\n",
    "\n",
    "long_time()"
   ]
  },
  {
   "cell_type": "code",
   "execution_count": 59,
   "metadata": {},
   "outputs": [
    {
     "name": "stdout",
     "output_type": "stream",
     "text": [
      "Sorna is not authenticated.\n"
     ]
    }
   ],
   "source": [
    "# Create an @authenticated decorator that only allows the function to run is user1 has 'valid' set to True:\n",
    "user1 = {\n",
    "    'name': 'Sorna',\n",
    "    'valid': False #changing this will either run or not run the message_friends function.\n",
    "}\n",
    "\n",
    "user2 = {\n",
    "    'name': 'Authenticated',\n",
    "    'valid': False #changing this will either run or not run the message_friends function.\n",
    "}\n",
    "\n",
    "def authenticated(fn):\n",
    "    # code here\n",
    "    def wrapper(*args, **kwargs):\n",
    "        if args[0]['valid']:\n",
    "            fn(*args, **kwargs)\n",
    "        else:\n",
    "            print(f'{args[0]['name']} is not authenticated.')\n",
    "    return wrapper\n",
    "\n",
    "@authenticated\n",
    "def message_friends(user):\n",
    "    print('message has been sent')\n",
    "\n",
    "message_friends(user1)"
   ]
  },
  {
   "cell_type": "code",
   "execution_count": 60,
   "metadata": {},
   "outputs": [
    {
     "name": "stdout",
     "output_type": "stream",
     "text": [
      "Authenticated is not authenticated.\n"
     ]
    }
   ],
   "source": [
    "message_friends(user2) #lol"
   ]
  },
  {
   "cell_type": "code",
   "execution_count": null,
   "metadata": {},
   "outputs": [],
   "source": []
  }
 ],
 "metadata": {
  "kernelspec": {
   "display_name": "Python 3",
   "language": "python",
   "name": "python3"
  },
  "language_info": {
   "codemirror_mode": {
    "name": "ipython",
    "version": 3
   },
   "file_extension": ".py",
   "mimetype": "text/x-python",
   "name": "python",
   "nbconvert_exporter": "python",
   "pygments_lexer": "ipython3",
   "version": "3.12.0"
  }
 },
 "nbformat": 4,
 "nbformat_minor": 2
}
